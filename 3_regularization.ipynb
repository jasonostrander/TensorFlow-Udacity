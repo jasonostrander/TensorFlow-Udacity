{
 "cells": [
  {
   "cell_type": "markdown",
   "metadata": {
    "colab_type": "text",
    "id": "kR-4eNdK6lYS"
   },
   "source": [
    "Deep Learning\n",
    "=============\n",
    "\n",
    "Assignment 3\n",
    "------------\n",
    "\n",
    "Previously in `2_fullyconnected.ipynb`, you trained a logistic regression and a neural network model.\n",
    "\n",
    "The goal of this assignment is to explore regularization techniques."
   ]
  },
  {
   "cell_type": "code",
   "execution_count": 1,
   "metadata": {
    "cellView": "both",
    "colab": {
     "autoexec": {
      "startup": false,
      "wait_interval": 0
     }
    },
    "colab_type": "code",
    "collapsed": true,
    "id": "JLpLa8Jt7Vu4"
   },
   "outputs": [],
   "source": [
    "# These are all the modules we'll be using later. Make sure you can import them\n",
    "# before proceeding further.\n",
    "import cPickle as pickle\n",
    "import numpy as np\n",
    "import tensorflow as tf"
   ]
  },
  {
   "cell_type": "markdown",
   "metadata": {
    "colab_type": "text",
    "id": "1HrCK6e17WzV"
   },
   "source": [
    "First reload the data we generated in _notmist.ipynb_."
   ]
  },
  {
   "cell_type": "code",
   "execution_count": 2,
   "metadata": {
    "cellView": "both",
    "colab": {
     "autoexec": {
      "startup": false,
      "wait_interval": 0
     },
     "output_extras": [
      {
       "item_id": 1
      }
     ]
    },
    "colab_type": "code",
    "collapsed": false,
    "executionInfo": {
     "elapsed": 11777,
     "status": "ok",
     "timestamp": 1449849322348,
     "user": {
      "color": "",
      "displayName": "",
      "isAnonymous": false,
      "isMe": true,
      "permissionId": "",
      "photoUrl": "",
      "sessionId": "0",
      "userId": ""
     },
     "user_tz": 480
    },
    "id": "y3-cj1bpmuxc",
    "outputId": "e03576f1-ebbe-4838-c388-f1777bcc9873"
   },
   "outputs": [
    {
     "name": "stdout",
     "output_type": "stream",
     "text": [
      "Training set (200000, 28, 28) (200000,)\n",
      "Validation set (10000, 28, 28) (10000,)\n",
      "Test set (18724, 28, 28) (18724,)\n"
     ]
    }
   ],
   "source": [
    "pickle_file = 'notMNIST.pickle'\n",
    "\n",
    "with open(pickle_file, 'rb') as f:\n",
    "  save = pickle.load(f)\n",
    "  train_dataset = save['train_dataset']\n",
    "  train_labels = save['train_labels']\n",
    "  valid_dataset = save['valid_dataset']\n",
    "  valid_labels = save['valid_labels']\n",
    "  test_dataset = save['test_dataset']\n",
    "  test_labels = save['test_labels']\n",
    "  del save  # hint to help gc free up memory\n",
    "  print 'Training set', train_dataset.shape, train_labels.shape\n",
    "  print 'Validation set', valid_dataset.shape, valid_labels.shape\n",
    "  print 'Test set', test_dataset.shape, test_labels.shape"
   ]
  },
  {
   "cell_type": "markdown",
   "metadata": {
    "colab_type": "text",
    "id": "L7aHrm6nGDMB"
   },
   "source": [
    "Reformat into a shape that's more adapted to the models we're going to train:\n",
    "- data as a flat matrix,\n",
    "- labels as float 1-hot encodings."
   ]
  },
  {
   "cell_type": "code",
   "execution_count": 3,
   "metadata": {
    "cellView": "both",
    "colab": {
     "autoexec": {
      "startup": false,
      "wait_interval": 0
     },
     "output_extras": [
      {
       "item_id": 1
      }
     ]
    },
    "colab_type": "code",
    "collapsed": false,
    "executionInfo": {
     "elapsed": 11728,
     "status": "ok",
     "timestamp": 1449849322356,
     "user": {
      "color": "",
      "displayName": "",
      "isAnonymous": false,
      "isMe": true,
      "permissionId": "",
      "photoUrl": "",
      "sessionId": "0",
      "userId": ""
     },
     "user_tz": 480
    },
    "id": "IRSyYiIIGIzS",
    "outputId": "3f8996ee-3574-4f44-c953-5c8a04636582"
   },
   "outputs": [
    {
     "name": "stdout",
     "output_type": "stream",
     "text": [
      "Training set (200000, 784) (200000, 10)\n",
      "Validation set (10000, 784) (10000, 10)\n",
      "Test set (18724, 784) (18724, 10)\n"
     ]
    }
   ],
   "source": [
    "image_size = 28\n",
    "num_labels = 10\n",
    "\n",
    "def reformat(dataset, labels):\n",
    "  dataset = dataset.reshape((-1, image_size * image_size)).astype(np.float32)\n",
    "  # Map 2 to [0.0, 1.0, 0.0 ...], 3 to [0.0, 0.0, 1.0 ...]\n",
    "  labels = (np.arange(num_labels) == labels[:,None]).astype(np.float32)\n",
    "  return dataset, labels\n",
    "train_dataset, train_labels = reformat(train_dataset, train_labels)\n",
    "valid_dataset, valid_labels = reformat(valid_dataset, valid_labels)\n",
    "test_dataset, test_labels = reformat(test_dataset, test_labels)\n",
    "print 'Training set', train_dataset.shape, train_labels.shape\n",
    "print 'Validation set', valid_dataset.shape, valid_labels.shape\n",
    "print 'Test set', test_dataset.shape, test_labels.shape"
   ]
  },
  {
   "cell_type": "code",
   "execution_count": 4,
   "metadata": {
    "cellView": "both",
    "colab": {
     "autoexec": {
      "startup": false,
      "wait_interval": 0
     }
    },
    "colab_type": "code",
    "collapsed": true,
    "id": "RajPLaL_ZW6w"
   },
   "outputs": [],
   "source": [
    "def accuracy(predictions, labels):\n",
    "  return (100.0 * np.sum(np.argmax(predictions, 1) == np.argmax(labels, 1))\n",
    "          / predictions.shape[0])"
   ]
  },
  {
   "cell_type": "markdown",
   "metadata": {
    "colab_type": "text",
    "id": "sgLbUAQ1CW-1"
   },
   "source": [
    "---\n",
    "Problem 1\n",
    "---------\n",
    "\n",
    "Introduce and tune L2 regularization for both logistic and neural network models. Remember that L2 amounts to adding a penalty on the norm of the weights to the loss. In TensorFlow, you can compue the L2 loss for a tensor `t` using `nn.l2_loss(t)`. The right amount of regularization should improve your validation / test accuracy.\n",
    "\n",
    "---"
   ]
  },
  {
   "cell_type": "code",
   "execution_count": 17,
   "metadata": {
    "collapsed": false
   },
   "outputs": [
    {
     "name": "stdout",
     "output_type": "stream",
     "text": [
      "Initialized\n",
      "Minibatch loss at step 0 : 2.68337\n",
      "Minibatch accuracy: 14.8%\n",
      "Validation accuracy: 26.6%\n",
      "Minibatch loss at step 500 : 0.103767\n",
      "Minibatch accuracy: 87.5%\n",
      "Validation accuracy: 89.1%\n",
      "Minibatch loss at step 1000 : 0.125659\n",
      "Minibatch accuracy: 83.6%\n",
      "Validation accuracy: 88.3%\n",
      "Minibatch loss at step 1500 : 0.0583824\n",
      "Minibatch accuracy: 87.5%\n",
      "Validation accuracy: 86.7%\n",
      "Minibatch loss at step 2000 : 0.0549991\n",
      "Minibatch accuracy: 89.1%\n",
      "Validation accuracy: 85.9%\n",
      "Minibatch loss at step 2500 : 0.0819669\n",
      "Minibatch accuracy: 86.7%\n",
      "Validation accuracy: 89.8%\n",
      "Minibatch loss at step 3000 : 0.142756\n",
      "Minibatch accuracy: 86.7%\n",
      "Validation accuracy: 88.3%\n",
      "Test accuracy: 94.2%\n"
     ]
    }
   ],
   "source": [
    "batch_size = 128\n",
    "image_pixels = image_size * image_size\n",
    "hidden_nodes = 1024\n",
    "import math\n",
    "\n",
    "def get_nn_logits(images, valid=False):\n",
    "  with tf.name_scope('hidden'):\n",
    "    weights = tf.Variable(\n",
    "        tf.truncated_normal([image_pixels, hidden_nodes], stddev=1.0 / math.sqrt(float(image_pixels))))\n",
    "    biases = tf.Variable(tf.zeros([hidden_nodes]))\n",
    "    hidden = tf.nn.relu(tf.matmul(images, weights) + biases)\n",
    "    \n",
    "  # train computation.\n",
    "  with tf.name_scope('softmax_linear'):\n",
    "    weights = tf.Variable(\n",
    "          tf.truncated_normal([hidden_nodes, num_labels],\n",
    "                              stddev=1.0 / math.sqrt(float(hidden_nodes))))\n",
    "    biases = tf.Variable(tf.zeros([num_labels]))\n",
    "    logits = tf.matmul(hidden, weights) + biases\n",
    "  return logits\n",
    "\n",
    "graph = tf.Graph()\n",
    "with graph.as_default():\n",
    "  # placeholders\n",
    "  tf_dataset = tf.placeholder(tf.float32, shape=(None, image_size * image_size))\n",
    "  tf_labels = tf.placeholder(tf.float32, shape=(None, num_labels))\n",
    "  logits = get_nn_logits(tf_dataset)\n",
    "  \n",
    "  # loss\n",
    "  loss = tf.reduce_mean(tf.nn.softmax_cross_entropy_with_logits(logits, tf_labels))\n",
    "  loss = tf.nn.l2_loss(loss)\n",
    "\n",
    "  # Optimizer.\n",
    "  optimizer = tf.train.GradientDescentOptimizer(0.5).minimize(loss)\n",
    "    \n",
    "  # Predictions for the training, validation, and test data.\n",
    "  prediction = tf.nn.softmax(logits)\n",
    "\n",
    "    \n",
    "num_steps = 3001\n",
    "with tf.Session(graph=graph) as session:\n",
    "  tf.initialize_all_variables().run()\n",
    "  print \"Initialized\"\n",
    "  for step in xrange(num_steps):\n",
    "    # Pick an offset within the training data, which has been randomized.\n",
    "    # Note: we could use better randomization across epochs.\n",
    "    offset = (step * batch_size) % (train_labels.shape[0] - batch_size)\n",
    "    batch_data = train_dataset[offset:(offset + batch_size), :]\n",
    "    batch_labels = train_labels[offset:(offset + batch_size), :]\n",
    "    feed_dict = {tf_train_dataset : batch_data, tf_train_labels : batch_labels}\n",
    "    _, l, predictions = session.run([optimizer, loss, prediction], feed_dict=feed_dict)\n",
    "    if (step % 500 == 0):\n",
    "      print \"Minibatch loss at step\", step, \":\", l\n",
    "#       print \"step %d, training accuracy %g\"%(step, accuracy.eval(feed_dict=feed_dict))\n",
    "\n",
    "      print \"Minibatch accuracy: %.1f%%\" % accuracy(predictions, batch_labels)\n",
    "      valid_offset = (step * batch_size) % (valid_labels.shape[0] - batch_size)\n",
    "      print \"Validation accuracy: %.1f%%\" % accuracy(prediction.eval(feed_dict={\n",
    "                tf_dataset: valid_dataset[valid_offset:(valid_offset + batch_size), :],\n",
    "                tf_labels: valid_labels[valid_offset:(valid_offset + batch_size), :]\n",
    "            }), valid_labels[valid_offset:(valid_offset + batch_size), :])\n",
    "  print \"Test accuracy: %.1f%%\" % accuracy(prediction.eval(\n",
    "        feed_dict={tf_dataset: test_dataset, tf_labels: test_labels}), test_labels)\n"
   ]
  },
  {
   "cell_type": "markdown",
   "metadata": {
    "colab_type": "text",
    "id": "na8xX2yHZzNF"
   },
   "source": [
    "---\n",
    "Problem 2\n",
    "---------\n",
    "Let's demonstrate an extreme case of overfitting. Restrict your training data to just a few batches. What happens?\n",
    "\n",
    "---"
   ]
  },
  {
   "cell_type": "code",
   "execution_count": 18,
   "metadata": {
    "collapsed": false
   },
   "outputs": [
    {
     "name": "stdout",
     "output_type": "stream",
     "text": [
      "Initialized\n",
      "Minibatch loss at step 0 : 2.74249\n",
      "Minibatch accuracy: 11.7%\n",
      "Validation accuracy: 31.2%\n",
      "Test accuracy: 26.5%\n"
     ]
    }
   ],
   "source": [
    "num_steps = 3\n",
    "with tf.Session(graph=graph) as session:\n",
    "  tf.initialize_all_variables().run()\n",
    "  print \"Initialized\"\n",
    "  for step in xrange(num_steps):\n",
    "    # Pick an offset within the training data, which has been randomized.\n",
    "    # Note: we could use better randomization across epochs.\n",
    "    offset = (step * batch_size) % (train_labels.shape[0] - batch_size)\n",
    "    batch_data = train_dataset[offset:(offset + batch_size), :]\n",
    "    batch_labels = train_labels[offset:(offset + batch_size), :]\n",
    "    feed_dict = {tf_train_dataset : batch_data, tf_train_labels : batch_labels}\n",
    "    _, l, predictions = session.run([optimizer, loss, prediction], feed_dict=feed_dict)\n",
    "    if (step % 500 == 0):\n",
    "      print \"Minibatch loss at step\", step, \":\", l\n",
    "#       print \"step %d, training accuracy %g\"%(step, accuracy.eval(feed_dict=feed_dict))\n",
    "\n",
    "      print \"Minibatch accuracy: %.1f%%\" % accuracy(predictions, batch_labels)\n",
    "      valid_offset = (step * batch_size) % (valid_labels.shape[0] - batch_size)\n",
    "      print \"Validation accuracy: %.1f%%\" % accuracy(prediction.eval(feed_dict={\n",
    "                tf_dataset: valid_dataset[valid_offset:(valid_offset + batch_size), :],\n",
    "                tf_labels: valid_labels[valid_offset:(valid_offset + batch_size), :]\n",
    "            }), valid_labels[valid_offset:(valid_offset + batch_size), :])\n",
    "  print \"Test accuracy: %.1f%%\" % accuracy(prediction.eval(\n",
    "        feed_dict={tf_dataset: test_dataset, tf_labels: test_labels}), test_labels)"
   ]
  },
  {
   "cell_type": "markdown",
   "metadata": {
    "colab_type": "text",
    "id": "ww3SCBUdlkRc"
   },
   "source": [
    "---\n",
    "Problem 3\n",
    "---------\n",
    "Introduce Dropout on the hidden layer of the neural network. Remember: Dropout should only be introduced during training, not evaluation, otherwise your evaluation results would be stochastic as well. TensorFlow provides `nn.dropout()` for that, but you have to make sure it's only inserted during training.\n",
    "\n",
    "What happens to our extreme overfitting case?\n",
    "\n",
    "---"
   ]
  },
  {
   "cell_type": "code",
   "execution_count": 36,
   "metadata": {
    "collapsed": false
   },
   "outputs": [
    {
     "name": "stdout",
     "output_type": "stream",
     "text": [
      "Initialized\n",
      "Minibatch loss at step 0 : 2.5378\n",
      "Minibatch accuracy: 10.9%\n",
      "Validation accuracy: 16.4%\n",
      "Minibatch loss at step 500 : 0.795646\n",
      "Minibatch accuracy: 82.8%\n",
      "Validation accuracy: 85.2%\n",
      "Minibatch loss at step 1000 : 0.853294\n",
      "Minibatch accuracy: 82.8%\n",
      "Validation accuracy: 85.9%\n",
      "Minibatch loss at step 1500 : 0.731839\n",
      "Minibatch accuracy: 80.5%\n",
      "Validation accuracy: 79.7%\n",
      "Minibatch loss at step 2000 : 0.656331\n",
      "Minibatch accuracy: 88.3%\n",
      "Validation accuracy: 81.2%\n",
      "Minibatch loss at step 2500 : 0.817715\n",
      "Minibatch accuracy: 85.2%\n",
      "Validation accuracy: 89.1%\n",
      "Minibatch loss at step 3000 : 0.844429\n",
      "Minibatch accuracy: 82.0%\n",
      "Validation accuracy: 85.9%\n",
      "Test accuracy: 91.9%\n"
     ]
    }
   ],
   "source": [
    "batch_size = 128\n",
    "image_pixels = image_size * image_size\n",
    "hidden_nodes = 1024\n",
    "import math\n",
    "\n",
    "graph = tf.Graph()\n",
    "with graph.as_default():\n",
    "  # placeholders\n",
    "  tf_dataset = tf.placeholder(tf.float32, shape=(None, image_size * image_size))\n",
    "  tf_labels = tf.placeholder(tf.float32, shape=(None, num_labels))\n",
    "  keep_prob = tf.placeholder(tf.float32)\n",
    "  logits = get_nn_logits(tf_dataset, keep_prob)\n",
    "\n",
    "  with tf.name_scope('hidden'):\n",
    "    h_weights = tf.Variable(\n",
    "        tf.truncated_normal([image_pixels, hidden_nodes], stddev=1.0 / math.sqrt(float(image_pixels))))\n",
    "    h_biases = tf.Variable(tf.zeros([hidden_nodes]))\n",
    "    hidden = tf.nn.relu(tf.matmul(tf_dataset, h_weights) + h_biases)\n",
    "    hidden_dropped = tf.nn.dropout(hidden, keep_prob)\n",
    "    \n",
    "  # train computation.\n",
    "  with tf.name_scope('softmax_linear'):\n",
    "    s_weights = tf.Variable(\n",
    "          tf.truncated_normal([hidden_nodes, num_labels],\n",
    "                              stddev=1.0 / math.sqrt(float(hidden_nodes))))\n",
    "    s_biases = tf.Variable(tf.zeros([num_labels]))\n",
    "    logits = tf.matmul(hidden_dropped, s_weights) + s_biases\n",
    "\n",
    "  # loss\n",
    "  loss = tf.reduce_mean(tf.nn.softmax_cross_entropy_with_logits(logits, tf_labels))\n",
    "  loss += 5e-4 * (tf.nn.l2_loss(h_weights) + tf.nn.l2_loss(h_biases) +\n",
    "                 tf.nn.l2_loss(s_weights) + tf.nn.l2_loss(s_biases))\n",
    "\n",
    "  # Optimizer.\n",
    "  optimizer = tf.train.GradientDescentOptimizer(0.5).minimize(loss)\n",
    "    \n",
    "  # Predictions for the training, validation, and test data.\n",
    "  prediction = tf.nn.softmax(logits)\n",
    "\n",
    "    \n",
    "num_steps = 3001\n",
    "with tf.Session(graph=graph) as session:\n",
    "  tf.initialize_all_variables().run()\n",
    "  print \"Initialized\"\n",
    "  for step in xrange(num_steps):\n",
    "    # Pick an offset within the training data, which has been randomized.\n",
    "    # Note: we could use better randomization across epochs.\n",
    "    offset = (step * batch_size) % (train_labels.shape[0] - batch_size)\n",
    "    batch_data = train_dataset[offset:(offset + batch_size), :]\n",
    "    batch_labels = train_labels[offset:(offset + batch_size), :]\n",
    "    feed_dict = {tf_train_dataset : batch_data, tf_train_labels : batch_labels, keep_prob: 0.5}\n",
    "    _, l, predictions = session.run([optimizer, loss, prediction], feed_dict=feed_dict)\n",
    "    if (step % 500 == 0):\n",
    "      print \"Minibatch loss at step\", step, \":\", l\n",
    "#       print \"step %d, training accuracy %g\"%(step, accuracy.eval(feed_dict=feed_dict))\n",
    "\n",
    "      print \"Minibatch accuracy: %.1f%%\" % accuracy(predictions, batch_labels)\n",
    "      valid_offset = (step * batch_size) % (valid_labels.shape[0] - batch_size)\n",
    "      print \"Validation accuracy: %.1f%%\" % accuracy(prediction.eval(feed_dict={\n",
    "                tf_dataset: valid_dataset[valid_offset:(valid_offset + batch_size), :],\n",
    "                tf_labels: valid_labels[valid_offset:(valid_offset + batch_size), :],\n",
    "                keep_prob: 1.0\n",
    "            }), valid_labels[valid_offset:(valid_offset + batch_size), :])\n",
    "  print \"Test accuracy: %.1f%%\" % accuracy(prediction.eval(\n",
    "        feed_dict={tf_dataset: test_dataset, tf_labels: test_labels, keep_prob: 1.0}), test_labels)\n"
   ]
  },
  {
   "cell_type": "markdown",
   "metadata": {
    "colab_type": "text",
    "id": "-b1hTz3VWZjw"
   },
   "source": [
    "---\n",
    "Problem 4\n",
    "---------\n",
    "\n",
    "Try to get the best performance you can using a multi-layer model! The best reported test accuracy using a deep network is [97.1%](http://yaroslavvb.blogspot.com/2011/09/notmnist-dataset.html?showComment=1391023266211#c8758720086795711595).\n",
    "\n",
    "One avenue you can explore is to add multiple layers.\n",
    "\n",
    "Another one is to use learning rate decay:\n",
    "\n",
    "    global_step = tf.Variable(0)  # count the number of steps taken.\n",
    "    learning_rate = tf.train.exponential_decay(0.5, step, ...)\n",
    "    optimizer = tf.train.GradientDescentOptimizer(learning_rate).minimize(loss, global_step=global_step)\n",
    " \n",
    " ---\n"
   ]
  }
 ],
 "metadata": {
  "colabVersion": "0.3.2",
  "colab_default_view": {},
  "colab_views": {},
  "kernelspec": {
   "display_name": "Python 2",
   "language": "python",
   "name": "python2"
  },
  "language_info": {
   "codemirror_mode": {
    "name": "ipython",
    "version": 2
   },
   "file_extension": ".py",
   "mimetype": "text/x-python",
   "name": "python",
   "nbconvert_exporter": "python",
   "pygments_lexer": "ipython2",
   "version": "2.7.10"
  }
 },
 "nbformat": 4,
 "nbformat_minor": 0
}
